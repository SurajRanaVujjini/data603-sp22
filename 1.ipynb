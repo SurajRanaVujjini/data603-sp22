{
 "cells": [
  {
   "cell_type": "code",
   "execution_count": 3,
   "id": "040943cf",
   "metadata": {},
   "outputs": [
    {
     "name": "stdout",
     "output_type": "stream",
     "text": [
      "Overwriting wc.py\n"
     ]
    }
   ],
   "source": [
    "%%file wc.py\n",
    "\n",
    "from mrjob.job import MRJob\n",
    "class MRWordFrequencyCount(MRJob):\n",
    "\n",
    "    def mapper(self, _, line):\n",
    "       \n",
    "        yield \"words\", len(line.split())\n",
    "        #yield \"lines\", 1\n",
    "\n",
    "    def reducer(self, key, values):\n",
    "      i,totalL,totalW=0,0,0\n",
    "      for i in values:\n",
    "        totalL += 1\n",
    "        totalW += i     \n",
    "      yield \"avg\", totalW/float(totalL)"
   ]
  },
  {
   "cell_type": "code",
   "execution_count": 4,
   "id": "e6a5ee8f",
   "metadata": {},
   "outputs": [
    {
     "name": "stderr",
     "output_type": "stream",
     "text": [
      "No configs specified for inline runner\n"
     ]
    },
    {
     "name": "stdout",
     "output_type": "stream",
     "text": [
      "avg 131.0396\n"
     ]
    }
   ],
   "source": [
    "import wc\n",
    "\n",
    "import pandas as pd\n",
    "  \n",
    "# Then loading csv file\n",
    "df = pd.read_csv('yelp.csv')\n",
    "a = list(df['text'])\n",
    "\n",
    "with open('review.txt', 'w') as f:\n",
    "    for item in a:\n",
    "        f.write(\"%s\\n\" % item)\n",
    "\n",
    "mr_job = wc.MRWordFrequencyCount(args=['review.txt'])\n",
    "with mr_job.make_runner() as runner:\n",
    "    runner.run()\n",
    "    for key, value in mr_job.parse_output(runner.cat_output()):\n",
    "        print(key, value)"
   ]
  },
  {
   "cell_type": "code",
   "execution_count": null,
   "id": "996a04a1",
   "metadata": {},
   "outputs": [],
   "source": []
  }
 ],
 "metadata": {
  "kernelspec": {
   "display_name": "Python 3",
   "language": "python",
   "name": "python3"
  },
  "language_info": {
   "codemirror_mode": {
    "name": "ipython",
    "version": 3
   },
   "file_extension": ".py",
   "mimetype": "text/x-python",
   "name": "python",
   "nbconvert_exporter": "python",
   "pygments_lexer": "ipython3",
   "version": "3.8.8"
  }
 },
 "nbformat": 4,
 "nbformat_minor": 5
}
