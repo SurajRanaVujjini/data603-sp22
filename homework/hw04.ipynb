{
 "cells": [
  {
   "cell_type": "code",
   "execution_count": 156,
   "id": "c219024d-f6c7-45f2-b747-a2892b2491ac",
   "metadata": {},
   "outputs": [],
   "source": [
    "from pyspark.sql import SparkSession"
   ]
  },
  {
   "cell_type": "code",
   "execution_count": 157,
   "id": "328d1feb-30b2-4364-a3ee-aee96eadaf4d",
   "metadata": {},
   "outputs": [],
   "source": [
    "spark = SparkSession.builder.getOrCreate()"
   ]
  },
  {
   "cell_type": "code",
   "execution_count": 158,
   "id": "449afcb7-c662-44d1-953a-773e7a254c72",
   "metadata": {},
   "outputs": [
    {
     "name": "stdout",
     "output_type": "stream",
     "text": [
      "513158\n",
      "root\n",
      " |-- X: double (nullable = true)\n",
      " |-- Y: double (nullable = true)\n",
      " |-- RowID: integer (nullable = true)\n",
      " |-- CrimeDateTime: string (nullable = true)\n",
      " |-- CrimeCode: string (nullable = true)\n",
      " |-- Location: string (nullable = true)\n",
      " |-- Description: string (nullable = true)\n",
      " |-- Inside_Outside: string (nullable = true)\n",
      " |-- Weapon: string (nullable = true)\n",
      " |-- Post: string (nullable = true)\n",
      " |-- District: string (nullable = true)\n",
      " |-- Neighborhood: string (nullable = true)\n",
      " |-- Latitude: double (nullable = true)\n",
      " |-- Longitude: double (nullable = true)\n",
      " |-- GeoLocation: string (nullable = true)\n",
      " |-- Premise: string (nullable = true)\n",
      " |-- VRIName: string (nullable = true)\n",
      " |-- Total_Incidents: integer (nullable = true)\n",
      " |-- Shape: string (nullable = true)\n",
      "\n",
      "+----------------+----------------+-----+--------------------+---------+-------------------+--------------+--------------+-------+----+---------+----------------+--------+---------+------------------+---------------+------------+---------------+-----+\n",
      "|               X|               Y|RowID|       CrimeDateTime|CrimeCode|           Location|   Description|Inside_Outside| Weapon|Post| District|    Neighborhood|Latitude|Longitude|       GeoLocation|        Premise|     VRIName|Total_Incidents|Shape|\n",
      "+----------------+----------------+-----+--------------------+---------+-------------------+--------------+--------------+-------+----+---------+----------------+--------+---------+------------------+---------------+------------+---------------+-----+\n",
      "|1420074.13302107|594160.602354662|    1|2022/02/26 04:00:...|       4E|  200 W MONUMENT ST|COMMON ASSAULT|          null|     NA| 124|  CENTRAL|    MOUNT VERNON| 39.2975| -76.6193|(39.2975,-76.6193)|           null|        null|              1| null|\n",
      "|1411374.22509631|589791.383964529|    2|2022/02/26 01:26:...|       9S| 2100 FREDERICK AVE|      SHOOTING|       Outside|FIREARM| 835|SOUTHWEST|CARROLLTON RIDGE| 39.2856| -76.6501|(39.2856,-76.6501)|COMMON BUSINESS|Tri-District|              1| null|\n",
      "|1411401.16887136|582761.775193539|    3|2022/02/26 10:22:...|       4E| 2000 GRINNALDS AVE|COMMON ASSAULT|          null|     NA| 831|SOUTHWEST|    MORRELL PARK| 39.2663| -76.6501|(39.2663,-76.6501)|           null|        null|              1| null|\n",
      "|1422663.14365552|597595.359444412|    4|2022/02/26 01:11:...|       7A|    400 E OLIVER ST|    AUTO THEFT|          null|     NA| 313|  EASTERN| GREENMOUNT WEST| 39.3069| -76.6101|(39.3069,-76.6101)|           null|        null|              1| null|\n",
      "|1440496.49709374|607767.144994879|    5|2022/02/26 12:30:...|       4B|5300 PLAINFIELD AVE|  AGG. ASSAULT|          null|  KNIFE| 444|NORTHEAST|       FRANKFORD| 39.3346| -76.5469|(39.3346,-76.5469)|           null|        null|              1| null|\n",
      "+----------------+----------------+-----+--------------------+---------+-------------------+--------------+--------------+-------+----+---------+----------------+--------+---------+------------------+---------------+------------+---------------+-----+\n",
      "only showing top 5 rows\n",
      "\n"
     ]
    }
   ],
   "source": [
    "from pyspark.sql.types import StructType, StructField, StringType, IntegerType, DoubleType, TimestampType\n",
    "from pyspark import StorageLevel\n",
    "import pyspark.sql.functions as F\n",
    "schema = StructType([StructField('X', DoubleType(), True),StructField('Y', DoubleType(), True),StructField('RowID', IntegerType(), False),\n",
    "                     StructField('CrimeDateTime', StringType(), True),StructField('CrimeCode', StringType(), True),StructField('Location', StringType(), True),\n",
    "                     StructField('Description', StringType(), True),StructField('Inside_Outside', StringType(), True),StructField('Weapon', StringType(), True),\n",
    "                     StructField('Post', StringType(), True),StructField('District', StringType(), True),StructField('Neighborhood', StringType(), True),\n",
    "                     StructField('Latitude', DoubleType(), True),StructField('Longitude', DoubleType(), True),StructField('GeoLocation', StringType(), True),\n",
    "                     StructField('Premise', StringType(), True),StructField('VRIName', StringType(), True),StructField('Total_Incidents', IntegerType(), True),\n",
    "                     StructField('Shape', StringType(), True)])\n",
    "df = spark.read.option('header', True).schema(schema).csv(\"Part1_Crime_data.csv\")\n",
    "df.persist(StorageLevel.MEMORY_AND_DISK)\n",
    "print(df.count())\n",
    "df.printSchema()\n",
    "df.show(5)"
   ]
  },
  {
   "cell_type": "markdown",
   "id": "77d9748f-6c2b-44e2-a9ba-ae006336b771",
   "metadata": {},
   "source": [
    "# Q1"
   ]
  },
  {
   "cell_type": "code",
   "execution_count": 159,
   "id": "f1e03c02-b833-4ed1-9161-eea4314c1008",
   "metadata": {},
   "outputs": [
    {
     "name": "stdout",
     "output_type": "stream",
     "text": [
      "+---------+\n",
      "|CrimeCode|\n",
      "+---------+\n",
      "|       3P|\n",
      "|       3K|\n",
      "|      3BJ|\n",
      "|       1A|\n",
      "|       3M|\n",
      "|       5F|\n",
      "|       4B|\n",
      "|       3B|\n",
      "|       7A|\n",
      "|      3NF|\n",
      "|      3EF|\n",
      "|       3N|\n",
      "|       5D|\n",
      "|      3LO|\n",
      "|      3AF|\n",
      "|       7B|\n",
      "|      3GO|\n",
      "|     3AJF|\n",
      "|      8AO|\n",
      "|       7C|\n",
      "|      3AK|\n",
      "|      3GK|\n",
      "|       6L|\n",
      "|      3EO|\n",
      "|      3JO|\n",
      "|       3F|\n",
      "|       1K|\n",
      "|       8H|\n",
      "|       4C|\n",
      "|       5A|\n",
      "|       6C|\n",
      "|      3NK|\n",
      "|       3D|\n",
      "|       6H|\n",
      "|      3LK|\n",
      "|     3AJK|\n",
      "|      3CO|\n",
      "|       3L|\n",
      "|       4E|\n",
      "|       6D|\n",
      "|       2A|\n",
      "|       3C|\n",
      "|       8I|\n",
      "|      3NO|\n",
      "|      3JF|\n",
      "|       3E|\n",
      "|      3LF|\n",
      "|       1O|\n",
      "|       8J|\n",
      "|      3CK|\n",
      "|      8BO|\n",
      "|       2B|\n",
      "|      3JK|\n",
      "|       5B|\n",
      "|       4A|\n",
      "|      8GO|\n",
      "|      8EV|\n",
      "|      3CF|\n",
      "|      8EO|\n",
      "|       6G|\n",
      "|       6A|\n",
      "|       9S|\n",
      "|      3EK|\n",
      "|      3GF|\n",
      "|       3H|\n",
      "|       4D|\n",
      "|      8FO|\n",
      "|       6J|\n",
      "|       6F|\n",
      "|       6E|\n",
      "|       3J|\n",
      "|       5C|\n",
      "|      8AV|\n",
      "|       5E|\n",
      "|     3AJO|\n",
      "|      3AO|\n",
      "|       6B|\n",
      "|      8CV|\n",
      "|      8BV|\n",
      "|      8FV|\n",
      "|       5G|\n",
      "|       6K|\n",
      "|      8GV|\n",
      "|      8CO|\n",
      "|      8DO|\n",
      "+---------+\n",
      "\n"
     ]
    }
   ],
   "source": [
    "df.select(\"CrimeCode\").distinct().show(1000)"
   ]
  },
  {
   "cell_type": "markdown",
   "id": "348d3de2-1fa2-43d9-b2f5-9faa1b2450e9",
   "metadata": {},
   "source": [
    "# Q2"
   ]
  },
  {
   "cell_type": "code",
   "execution_count": 160,
   "id": "5473577b-e227-4618-808b-5989f37168a5",
   "metadata": {},
   "outputs": [
    {
     "name": "stdout",
     "output_type": "stream",
     "text": [
      "+---------+----------+\n",
      "|CrimeCode|CrimeCount|\n",
      "+---------+----------+\n",
      "|       4E|     91650|\n",
      "|       6D|     68427|\n",
      "|       5A|     43928|\n",
      "|       7A|     40274|\n",
      "|       6J|     27636|\n",
      "|       6G|     26858|\n",
      "|       6E|     24300|\n",
      "|       6C|     23227|\n",
      "|       4C|     22438|\n",
      "|       5D|     14971|\n",
      "|      3AF|     14739|\n",
      "|       4B|     14460|\n",
      "|       4A|     13226|\n",
      "|       3B|     10737|\n",
      "|       4D|      7232|\n",
      "|       5B|      6475|\n",
      "|       9S|      5443|\n",
      "|       6F|      5081|\n",
      "|       5C|      4917|\n",
      "|       6B|      4106|\n",
      "|      3CF|      3771|\n",
      "|       2A|      3168|\n",
      "|     3AJF|      3018|\n",
      "|      3AK|      2982|\n",
      "|       3K|      2833|\n",
      "|       7C|      2725|\n",
      "|       1A|      2624|\n",
      "|      3AO|      2473|\n",
      "|       5F|      2182|\n",
      "|      3JF|      1815|\n",
      "|       3D|      1432|\n",
      "|       5E|      1419|\n",
      "|       6L|      1205|\n",
      "|       8H|      1051|\n",
      "|       3P|       873|\n",
      "|      3GF|       789|\n",
      "|       6A|       781|\n",
      "|      3BJ|       754|\n",
      "|      3CK|       591|\n",
      "|      3CO|       516|\n",
      "|      3NF|       441|\n",
      "|      3JK|       423|\n",
      "|      8AO|       413|\n",
      "|      3JO|       413|\n",
      "|       2B|       355|\n",
      "|       7B|       287|\n",
      "|       8J|       279|\n",
      "|       3H|       261|\n",
      "|       1K|       230|\n",
      "|     3AJO|       224|\n",
      "|       6H|       222|\n",
      "|       3J|       210|\n",
      "|       1O|       191|\n",
      "|      3EF|       176|\n",
      "|       3N|       176|\n",
      "|     3AJK|       172|\n",
      "|      8FO|       154|\n",
      "|      3GO|       131|\n",
      "|       3M|       121|\n",
      "|      8AV|       121|\n",
      "|       3F|       120|\n",
      "|      3NK|       120|\n",
      "|      3GK|       116|\n",
      "|      8BO|       104|\n",
      "|      3LF|        97|\n",
      "|      3NO|        83|\n",
      "|      8EO|        77|\n",
      "|       8I|        50|\n",
      "|      3EO|        45|\n",
      "|      3EK|        41|\n",
      "|      3LO|        35|\n",
      "|      8BV|        26|\n",
      "|      8GO|        24|\n",
      "|       5G|        21|\n",
      "|      8CO|        13|\n",
      "|      8EV|        10|\n",
      "|      8FV|         9|\n",
      "|       6K|         7|\n",
      "|      8GV|         7|\n",
      "|      8CV|         7|\n",
      "|       3E|         6|\n",
      "|      3LK|         5|\n",
      "|       3C|         4|\n",
      "|      8DO|         3|\n",
      "|       3L|         1|\n",
      "+---------+----------+\n",
      "\n"
     ]
    }
   ],
   "source": [
    "(df.groupBy(\"CrimeCode\").agg(F.count(\"CrimeCode\")).withColumnRenamed(\"count(CrimeCode)\", \"CrimeCount\")\n",
    " .orderBy(\"CrimeCount\", ascending=False).show(1000))"
   ]
  },
  {
   "cell_type": "markdown",
   "id": "b9ec9b1c-65df-4bd4-ba72-21c6e24ccf26",
   "metadata": {},
   "source": [
    "# Q3"
   ]
  },
  {
   "cell_type": "code",
   "execution_count": 161,
   "id": "d29e6e00-4b7d-45bc-980b-7c130a9b8545",
   "metadata": {},
   "outputs": [
    {
     "data": {
      "text/plain": [
       "'DOWNTOWN'"
      ]
     },
     "execution_count": 161,
     "metadata": {},
     "output_type": "execute_result"
    }
   ],
   "source": [
    "(df.select(\"Neighborhood\").groupBy(\"Neighborhood\").agg(F.count(\"Neighborhood\")).withColumnRenamed(\"count(Neighborhood)\", \"CrimeCount\")\n",
    " .orderBy(\"CrimeCount\", ascending=False).first()[\"Neighborhood\"])"
   ]
  },
  {
   "cell_type": "markdown",
   "id": "0b7d5271-4646-445a-be5f-cf9661250b75",
   "metadata": {},
   "source": [
    "# Q4"
   ]
  },
  {
   "cell_type": "code",
   "execution_count": 162,
   "id": "1e9f91a2-661b-4790-af87-057e1108a58a",
   "metadata": {},
   "outputs": [
    {
     "name": "stdout",
     "output_type": "stream",
     "text": [
      "+-----------------+-----------------+\n",
      "|month(timestamps)|count(timestamps)|\n",
      "+-----------------+-----------------+\n",
      "|                8|            46327|\n",
      "+-----------------+-----------------+\n",
      "only showing top 1 row\n",
      "\n"
     ]
    }
   ],
   "source": [
    "(df.select(to_timestamp(\"CrimeDateTime\",\"yyyy/MM/dd HH:mm:ss+00\")\n",
    "           .alias(\"timestamps\")).groupBy(F.month(\"timestamps\")).agg(F.count(\"timestamps\"))\n",
    "           .orderBy(F.count(\"timestamps\"), ascending=False).show(1))"
   ]
  },
  {
   "cell_type": "markdown",
   "id": "ecaa5a43-1765-41b2-a428-a64b8dd0b440",
   "metadata": {},
   "source": [
    "# Q5"
   ]
  },
  {
   "cell_type": "code",
   "execution_count": 163,
   "id": "0fd7f1b9-f3fb-40d7-be69-52d9222bd2dd",
   "metadata": {},
   "outputs": [
    {
     "name": "stdout",
     "output_type": "stream",
     "text": [
      "+-------+\n",
      "| Weapon|\n",
      "+-------+\n",
      "|  HANDS|\n",
      "|  KNIFE|\n",
      "|  OTHER|\n",
      "|   FIRE|\n",
      "|FIREARM|\n",
      "+-------+\n",
      "\n"
     ]
    }
   ],
   "source": [
    "null_values = [\"NA\",\"null\"]\n",
    "df.select(\"Weapon\").filter(~F.col(\"Weapon\").isin(null_values)).distinct().show()"
   ]
  },
  {
   "cell_type": "markdown",
   "id": "6422a95c-7ead-473c-8afa-aa2523533933",
   "metadata": {},
   "source": [
    "# Q6"
   ]
  },
  {
   "cell_type": "code",
   "execution_count": 164,
   "id": "71d23102-1f8f-4ba8-9aac-cb52080653ee",
   "metadata": {},
   "outputs": [
    {
     "data": {
      "text/plain": [
       "'FIREARM'"
      ]
     },
     "execution_count": 164,
     "metadata": {},
     "output_type": "execute_result"
    }
   ],
   "source": [
    "(df\n",
    "   .filter(~F.col(\"Weapon\").isin(not_weapon))\n",
    "   .groupBy(\"Weapon\")\n",
    "   .agg(F.count(\"Weapon\"))\n",
    "   .withColumnRenamed(\"count(Weapon)\", \"WeaponCount\")\n",
    "   .orderBy(\"WeaponCount\", ascending=False)\n",
    "   .first()[\"Weapon\"])"
   ]
  }
 ],
 "metadata": {
  "kernelspec": {
   "display_name": "Python 3 (ipykernel)",
   "language": "python",
   "name": "python3"
  },
  "language_info": {
   "codemirror_mode": {
    "name": "ipython",
    "version": 3
   },
   "file_extension": ".py",
   "mimetype": "text/x-python",
   "name": "python",
   "nbconvert_exporter": "python",
   "pygments_lexer": "ipython3",
   "version": "3.9.7"
  }
 },
 "nbformat": 4,
 "nbformat_minor": 5
}
