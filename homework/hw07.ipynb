{
 "cells": [
  {
   "cell_type": "code",
   "execution_count": 188,
   "id": "473f2c83-e4c9-465c-92c9-fddde1b46074",
   "metadata": {},
   "outputs": [],
   "source": [
    "from pyspark.sql import SparkSession"
   ]
  },
  {
   "cell_type": "code",
   "execution_count": 189,
   "id": "45da2586-1e9e-471c-a16f-336d2f382358",
   "metadata": {},
   "outputs": [],
   "source": [
    "spark = SparkSession.builder.getOrCreate()"
   ]
  },
  {
   "cell_type": "code",
   "execution_count": 190,
   "id": "c854bc81-aaea-4976-920d-14068135bb7b",
   "metadata": {},
   "outputs": [],
   "source": [
    "df = spark.read.options(header = \"true\", inferSchema = \"true\", nullValue = \"NA\").csv(\"weatherAUS.csv\")"
   ]
  },
  {
   "cell_type": "code",
   "execution_count": 191,
   "id": "a124e4e7-264a-4100-a2da-b2e416e5c30d",
   "metadata": {},
   "outputs": [],
   "source": [
    "df = df.na.drop()"
   ]
  },
  {
   "cell_type": "code",
   "execution_count": 192,
   "id": "54e1b885-33fb-4d5f-aed2-eb7446d61475",
   "metadata": {},
   "outputs": [
    {
     "name": "stdout",
     "output_type": "stream",
     "text": [
      "root\n",
      " |-- Date: string (nullable = true)\n",
      " |-- Location: string (nullable = true)\n",
      " |-- MinTemp: double (nullable = true)\n",
      " |-- MaxTemp: double (nullable = true)\n",
      " |-- Rainfall: double (nullable = true)\n",
      " |-- Evaporation: double (nullable = true)\n",
      " |-- Sunshine: double (nullable = true)\n",
      " |-- WindGustDir: string (nullable = true)\n",
      " |-- WindGustSpeed: double (nullable = true)\n",
      " |-- WindDir9am: string (nullable = true)\n",
      " |-- WindDir3pm: string (nullable = true)\n",
      " |-- WindSpeed9am: double (nullable = true)\n",
      " |-- WindSpeed3pm: double (nullable = true)\n",
      " |-- Humidity9am: double (nullable = true)\n",
      " |-- Humidity3pm: double (nullable = true)\n",
      " |-- Pressure9am: double (nullable = true)\n",
      " |-- Pressure3pm: double (nullable = true)\n",
      " |-- Cloud9am: double (nullable = true)\n",
      " |-- Cloud3pm: double (nullable = true)\n",
      " |-- Temp9am: double (nullable = true)\n",
      " |-- Temp3pm: double (nullable = true)\n",
      " |-- RainToday: string (nullable = true)\n",
      " |-- RainTomorrow: integer (nullable = true)\n",
      "\n"
     ]
    }
   ],
   "source": [
    "df.printSchema()"
   ]
  },
  {
   "cell_type": "code",
   "execution_count": 193,
   "id": "dc5815e6-3e4b-4a22-843f-d89518066c54",
   "metadata": {},
   "outputs": [],
   "source": [
    "numeric_features = [field for (field, dataType) in train.dtypes if dataType != \"string\"]\n",
    "categorical_features = [field for (field, dataType) in train.dtypes if dataType == \"string\"]"
   ]
  },
  {
   "cell_type": "code",
   "execution_count": 194,
   "id": "5dca72e9-d1bc-4132-8a86-2917f59f5ff8",
   "metadata": {},
   "outputs": [],
   "source": [
    "from pyspark.ml import Pipeline\n",
    "from pyspark.ml.classification import DecisionTreeClassifier,RandomForestClassifier,GBTClassifier,LogisticRegression\n",
    "from pyspark.ml.feature import StringIndexer, VectorIndexer\n",
    "from pyspark.ml.evaluation import MulticlassClassificationEvaluator,BinaryClassificationEvaluator\n",
    "from pyspark.mllib.util import MLUtils\n",
    "from pyspark.ml.feature import VectorAssembler\n",
    "from pyspark.ml.tuning import CrossValidator, ParamGridBuilder, CrossValidatorModel\n",
    "from pyspark.ml.stat import Correlation"
   ]
  },
  {
   "cell_type": "code",
   "execution_count": 195,
   "id": "6ed8d770-7c2a-42ca-8637-8013f17ee320",
   "metadata": {},
   "outputs": [],
   "source": [
    "train, test = df.randomSplit([.8, .2], seed=12345)"
   ]
  },
  {
   "cell_type": "code",
   "execution_count": 196,
   "id": "1cd006de-9981-459e-8fd8-6eda38c3fa34",
   "metadata": {},
   "outputs": [],
   "source": [
    "from pyspark.ml.feature import StringIndexer\n",
    "\n",
    "indexOutputCols = [x + \"Index\" for x in categorical_features]\n",
    "\n",
    "stringIndexer = StringIndexer(inputCols=categorical_features, outputCols=indexOutputCols, handleInvalid=\"skip\")"
   ]
  },
  {
   "cell_type": "code",
   "execution_count": 197,
   "id": "1a015571-7c6b-41db-90e1-91243c7a34bf",
   "metadata": {},
   "outputs": [],
   "source": [
    "from pyspark.ml.feature import VectorAssembler\n",
    "\n",
    "assemblerInputs = indexOutputCols + numeric_features\n",
    "vecAssembler = VectorAssembler(inputCols=assemblerInputs, outputCol=\"features\")"
   ]
  },
  {
   "cell_type": "code",
   "execution_count": 198,
   "id": "63fd6c98-b7b1-40f9-a586-b7a79b282ce1",
   "metadata": {},
   "outputs": [],
   "source": [
    "dtc = DecisionTreeClassifier(labelCol=\"RainTomorrow\")"
   ]
  },
  {
   "cell_type": "code",
   "execution_count": 199,
   "id": "ca420690-dece-405d-9d06-370aa9aaae91",
   "metadata": {},
   "outputs": [],
   "source": [
    "from pyspark.ml import Pipeline"
   ]
  },
  {
   "cell_type": "code",
   "execution_count": 200,
   "id": "e593c0b0-171f-4fd1-a7e7-262859682731",
   "metadata": {},
   "outputs": [],
   "source": [
    "from pyspark.ml.tuning import CrossValidator\n",
    "from pyspark.ml.tuning import ParamGridBuilder\n",
    "\n",
    "paramGrid = (ParamGridBuilder()\n",
    "            .addGrid(dtc.impurity, ['gini','entropy'])\n",
    "            .addGrid(dtc.maxBins, [3400, 3415, 3720])\n",
    "             .addGrid(dtc.minInfoGain, [0.0,0.2,0.4])\n",
    "            .addGrid(dtc.maxDepth, [3,5,7])\n",
    "            .build())\n",
    "\n",
    "cv = CrossValidator(estimator=dtc, \n",
    "                    evaluator=MulticlassClassificationEvaluator(labelCol=\"RainTomorrow\"),\n",
    "                    estimatorParamMaps=paramGrid, \n",
    "                    numFolds=4, \n",
    "                    seed=42)"
   ]
  },
  {
   "cell_type": "code",
   "execution_count": 201,
   "id": "acb13627-6723-4b4d-9bc5-70e07ef944ad",
   "metadata": {},
   "outputs": [],
   "source": [
    "stages = [stringIndexer, vecAssembler, cv]\n",
    "pipeline = Pipeline(stages=stages)\n",
    "pipelineModel = pipeline.fit(train)"
   ]
  },
  {
   "cell_type": "code",
   "execution_count": 202,
   "id": "62601b6a-f618-4847-8d3f-86e41f267566",
   "metadata": {},
   "outputs": [],
   "source": [
    "pred = pipelineModel.transform(test)"
   ]
  },
  {
   "cell_type": "code",
   "execution_count": 203,
   "id": "04458dda-0229-4923-a0cd-039f843acfbb",
   "metadata": {},
   "outputs": [
    {
     "name": "stdout",
     "output_type": "stream",
     "text": [
      "+----------+-------------+-------+-------+--------+-----------+--------+-----------+-------------+----------+----------+------------+------------+-----------+-----------+-----------+-----------+--------+--------+-------+-------+---------+------------+---------+-------------+----------------+---------------+---------------+--------------+--------------------+-----------------+-------------+----------+\n",
      "|      Date|     Location|MinTemp|MaxTemp|Rainfall|Evaporation|Sunshine|WindGustDir|WindGustSpeed|WindDir9am|WindDir3pm|WindSpeed9am|WindSpeed3pm|Humidity9am|Humidity3pm|Pressure9am|Pressure3pm|Cloud9am|Cloud3pm|Temp9am|Temp3pm|RainToday|RainTomorrow|DateIndex|LocationIndex|WindGustDirIndex|WindDir9amIndex|WindDir3pmIndex|RainTodayIndex|            features|    rawPrediction|  probability|prediction|\n",
      "+----------+-------------+-------+-------+--------+-----------+--------+-----------+-------------+----------+----------+------------+------------+-----------+-----------+-----------+-----------+--------+--------+-------+-------+---------+------------+---------+-------------+----------------+---------------+---------------+--------------+--------------------+-----------------+-------------+----------+\n",
      "|2009-01-01|  Williamtown|   15.2|   34.0|     0.0|       11.6|     9.2|         NW|         41.0|       WNW|        SE|        17.0|        20.0|       62.0|       36.0|     1005.2|     1001.5|     3.0|     6.0|   23.7|   28.7|       No|           1|   1364.0|         23.0|            13.0|           14.0|            0.0|           0.0|[1364.0,23.0,13.0...|[0.0,35197.0,0.0]|[0.0,1.0,0.0]|       1.0|\n",
      "|2009-01-04|   WaggaWagga|   14.7|   35.2|     0.0|        9.4|    12.1|          N|         39.0|        NE|        NW|        17.0|        13.0|       46.0|       19.0|     1014.8|     1010.6|     1.0|     4.0|   24.7|   33.7|       No|           1|    719.0|         11.0|             1.0|            8.0|           14.0|           0.0|[719.0,11.0,1.0,8...|[0.0,35197.0,0.0]|[0.0,1.0,0.0]|       1.0|\n",
      "|2009-01-04|  Williamtown|   17.5|   27.8|     0.0|        5.0|    12.0|          E|         50.0|        NE|       ENE|        19.0|        35.0|       60.0|       51.0|     1018.4|     1014.6|     1.0|     1.0|   22.7|   26.4|       No|           1|    719.0|         23.0|             0.0|            8.0|            3.0|           0.0|[719.0,23.0,0.0,8...|[0.0,35197.0,0.0]|[0.0,1.0,0.0]|       1.0|\n",
      "|2009-01-05|NorfolkIsland|   20.4|   23.5|     2.6|        2.2|     2.9|        ESE|         52.0|       ESE|       ESE|        24.0|        28.0|       86.0|       86.0|     1015.3|     1013.7|     7.0|     7.0|   21.8|   21.6|      Yes|           1|    434.0|         10.0|             9.0|            7.0|            7.0|           1.0|[434.0,10.0,9.0,7...|[0.0,35197.0,0.0]|[0.0,1.0,0.0]|       1.0|\n",
      "|2009-01-06|NorfolkIsland|   20.4|   24.4|     0.0|        3.0|     8.7|          E|         48.0|       ESE|       ESE|        30.0|        24.0|       84.0|       79.0|     1014.5|     1012.7|     5.0|     3.0|   21.4|   23.3|       No|           1|     34.0|         10.0|             0.0|            7.0|            7.0|           0.0|[34.0,10.0,0.0,7....|[0.0,35197.0,0.0]|[0.0,1.0,0.0]|       1.0|\n",
      "|2009-01-08|        Cobar|   23.3|   34.0|     0.0|        9.8|    12.6|        SSW|         41.0|         S|       SSE|        17.0|        19.0|       33.0|       15.0|     1011.3|     1009.9|     3.0|     1.0|   25.0|   31.5|       No|           1|    435.0|         25.0|             6.0|            6.0|           11.0|           0.0|[435.0,25.0,6.0,6...|[0.0,35197.0,0.0]|[0.0,1.0,0.0]|       1.0|\n",
      "|2009-01-08|NorfolkIsland|   20.5|   24.0|     0.0|        4.4|     6.0|          E|         52.0|       ESE|        SE|        28.0|        28.0|       82.0|       82.0|     1011.5|     1009.4|     6.0|     6.0|   22.5|   22.8|       No|           1|    435.0|         10.0|             0.0|            7.0|            0.0|           0.0|[435.0,10.0,0.0,7...|[0.0,35197.0,0.0]|[0.0,1.0,0.0]|       1.0|\n",
      "|2009-01-11|        Cobar|   19.7|   35.5|     0.0|       11.0|    12.7|         NE|         41.0|       NNE|       WSW|        15.0|        17.0|       61.0|       14.0|     1007.9|     1005.8|     1.0|     5.0|   24.0|   33.6|       No|           1|    108.0|         25.0|            11.0|           10.0|            5.0|           0.0|[108.0,25.0,11.0,...|[0.0,35197.0,0.0]|[0.0,1.0,0.0]|       1.0|\n",
      "|2009-01-14|   WaggaWagga|   20.9|   42.0|     0.0|       12.0|    13.4|        WNW|         50.0|         N|         W|        13.0|        24.0|       29.0|       10.0|     1012.3|     1008.1|     1.0|     1.0|   31.0|   41.0|       No|           1|    720.0|         11.0|            12.0|            0.0|            4.0|           0.0|[720.0,11.0,12.0,...|[0.0,35197.0,0.0]|[0.0,1.0,0.0]|       1.0|\n",
      "|2009-01-15| CoffsHarbour|   19.1|   32.2|     0.0|        7.6|    13.2|        NNE|         61.0|       NNW|       NNE|        31.0|        46.0|       50.0|       57.0|     1013.9|     1010.4|     0.0|     1.0|   25.1|   27.6|       No|           1|    721.0|         22.0|            14.0|           11.0|           15.0|           0.0|[721.0,22.0,14.0,...|[0.0,35197.0,0.0]|[0.0,1.0,0.0]|       1.0|\n",
      "|2009-01-15|SydneyAirport|   22.6|   38.8|     0.0|       14.2|     9.4|          S|         81.0|       ENE|       NNE|         6.0|        26.0|       42.0|       43.0|     1009.1|     1006.6|     1.0|     6.0|   29.6|   32.0|       No|           2|    721.0|          4.0|             8.0|            2.0|           15.0|           0.0|[721.0,4.0,8.0,2....| [0.0,0.0,9978.0]|[0.0,0.0,1.0]|       2.0|\n",
      "|2009-01-17|SydneyAirport|   17.1|   20.7|     0.0|       10.4|     6.5|          S|         54.0|       SSE|         S|        43.0|        33.0|       58.0|       57.0|     1020.2|     1020.8|     7.0|     3.0|   18.8|   19.8|       No|           1|    109.0|          4.0|             8.0|            4.0|            1.0|           0.0|[109.0,4.0,8.0,4....|[0.0,35197.0,0.0]|[0.0,1.0,0.0]|       1.0|\n",
      "|2009-01-18| CoffsHarbour|   14.8|   23.1|     7.2|        1.6|     2.8|         SW|         28.0|        SW|        SE|        17.0|         9.0|       69.0|       57.0|     1021.2|     1020.1|     6.0|     7.0|   20.9|   21.7|      Yes|           1|    110.0|         22.0|             3.0|            9.0|            0.0|           1.0|[110.0,22.0,3.0,9...|[0.0,35197.0,0.0]|[0.0,1.0,0.0]|       1.0|\n",
      "|2009-01-18|SydneyAirport|   14.4|   25.0|     0.0|        5.6|    12.7|        ENE|         43.0|       WSW|       ENE|         9.0|        30.0|       65.0|       43.0|     1022.0|     1019.8|     1.0|     1.0|   19.3|   23.5|       No|           1|    110.0|          4.0|             4.0|           12.0|            3.0|           0.0|[110.0,4.0,4.0,12...|[0.0,35197.0,0.0]|[0.0,1.0,0.0]|       1.0|\n",
      "|2009-01-19|        Cobar|   21.4|   37.5|     0.0|       14.8|     6.9|        NNE|         43.0|       ENE|       NNE|        26.0|         9.0|       34.0|       29.0|     1013.1|     1009.6|     7.0|     6.0|   26.2|   34.1|       No|           2|   1009.0|         25.0|            14.0|            2.0|           15.0|           0.0|[1009.0,25.0,14.0...| [0.0,0.0,9978.0]|[0.0,0.0,1.0]|       2.0|\n",
      "|2009-01-19|        Moree|   19.7|   31.6|     0.0|       12.2|     3.7|         NE|         52.0|        NE|         N|        30.0|        17.0|       52.0|       35.0|     1017.8|     1013.4|     8.0|     8.0|   22.5|   30.7|       No|           1|   1009.0|         17.0|            11.0|            8.0|            8.0|           0.0|[1009.0,17.0,11.0...|[0.0,35197.0,0.0]|[0.0,1.0,0.0]|       1.0|\n",
      "|2009-01-19|SydneyAirport|   17.0|   27.3|     0.0|       11.0|    12.7|        NNE|         59.0|         N|        NE|        22.0|        37.0|       53.0|       49.0|     1019.2|     1014.7|     3.0|     6.0|   22.2|   25.6|       No|           1|   1009.0|          4.0|            14.0|            0.0|           10.0|           0.0|[1009.0,4.0,14.0,...|[0.0,35197.0,0.0]|[0.0,1.0,0.0]|       1.0|\n",
      "|2009-01-20|        Cobar|   23.3|   39.4|     4.8|       12.0|    10.9|          W|         59.0|         N|        NW|        19.0|        17.0|       54.0|       14.0|     1011.1|     1008.5|     1.0|     7.0|   27.0|   37.0|      Yes|           1|    227.0|         25.0|             2.0|            0.0|           14.0|           1.0|[227.0,25.0,2.0,0...|[0.0,35197.0,0.0]|[0.0,1.0,0.0]|       1.0|\n",
      "|2009-01-20|SydneyAirport|   19.5|   31.7|     0.0|        9.0|    12.4|         NE|         67.0|         N|        NE|         7.0|        41.0|       51.0|       38.0|     1013.8|     1009.9|     1.0|     1.0|   25.8|   31.1|       No|           2|    227.0|          4.0|            11.0|            0.0|           10.0|           0.0|[227.0,4.0,11.0,0...| [0.0,0.0,9978.0]|[0.0,0.0,1.0]|       2.0|\n",
      "|2009-01-20|  Williamtown|   14.0|   34.9|     0.0|        7.6|    13.3|         NE|         44.0|         N|        NE|         9.0|        24.0|       59.0|       34.0|     1014.4|     1010.3|     2.0|     2.0|   24.5|   33.3|       No|           1|    227.0|         23.0|            11.0|            0.0|           10.0|           0.0|[227.0,23.0,11.0,...|[0.0,35197.0,0.0]|[0.0,1.0,0.0]|       1.0|\n",
      "+----------+-------------+-------+-------+--------+-----------+--------+-----------+-------------+----------+----------+------------+------------+-----------+-----------+-----------+-----------+--------+--------+-------+-------+---------+------------+---------+-------------+----------------+---------------+---------------+--------------+--------------------+-----------------+-------------+----------+\n",
      "only showing top 20 rows\n",
      "\n"
     ]
    }
   ],
   "source": [
    "pred.show()"
   ]
  },
  {
   "cell_type": "code",
   "execution_count": 204,
   "id": "465c0dbd-198d-4594-9834-ca355a86cec4",
   "metadata": {},
   "outputs": [
    {
     "name": "stdout",
     "output_type": "stream",
     "text": [
      "+----------+\n",
      "|prediction|\n",
      "+----------+\n",
      "|       1.0|\n",
      "|       1.0|\n",
      "|       1.0|\n",
      "|       1.0|\n",
      "|       1.0|\n",
      "|       1.0|\n",
      "|       1.0|\n",
      "|       1.0|\n",
      "|       1.0|\n",
      "|       1.0|\n",
      "|       2.0|\n",
      "|       1.0|\n",
      "|       1.0|\n",
      "|       1.0|\n",
      "|       2.0|\n",
      "|       1.0|\n",
      "|       1.0|\n",
      "|       1.0|\n",
      "|       2.0|\n",
      "|       1.0|\n",
      "+----------+\n",
      "only showing top 20 rows\n",
      "\n"
     ]
    }
   ],
   "source": [
    "#I have encoded the \"RainTomorrow\" data in jupter notebook using python where I put 1 for \"No\" and 2 for \"Yes\".\n",
    "#I was not able to encode it in pyspark.S\n",
    "pred.select('prediction').show()\n",
    "#1-No\n",
    "#2-Yes"
   ]
  },
  {
   "cell_type": "code",
   "execution_count": 205,
   "id": "0e301c1a-9b0d-4a96-8ae9-1a5b2b4bc07e",
   "metadata": {},
   "outputs": [
    {
     "name": "stdout",
     "output_type": "stream",
     "text": [
      "Confusion Matrix:\n",
      "[[  30    0    0]\n",
      " [   0 8758    0]\n",
      " [   0    0 2441]]\n"
     ]
    }
   ],
   "source": [
    "from sklearn.metrics import confusion_matrix\n",
    "\n",
    "y_pred=pred.select(\"prediction\").collect()\n",
    "y_orig=pred.select(\"RainTomorrow\").collect()\n",
    "\n",
    "cm = confusion_matrix(y_orig, y_pred)\n",
    "print(\"Confusion Matrix:\")\n",
    "print(cm)"
   ]
  }
 ],
 "metadata": {
  "kernelspec": {
   "display_name": "Python 3",
   "language": "python",
   "name": "python3"
  },
  "language_info": {
   "codemirror_mode": {
    "name": "ipython",
    "version": 3
   },
   "file_extension": ".py",
   "mimetype": "text/x-python",
   "name": "python",
   "nbconvert_exporter": "python",
   "pygments_lexer": "ipython3",
   "version": "3.8.8"
  }
 },
 "nbformat": 4,
 "nbformat_minor": 5
}
