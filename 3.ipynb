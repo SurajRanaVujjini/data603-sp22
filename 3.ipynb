{
 "cells": [
  {
   "cell_type": "code",
   "execution_count": 1,
   "id": "d10ca7e0",
   "metadata": {},
   "outputs": [
    {
     "name": "stdout",
     "output_type": "stream",
     "text": [
      "Writing we.py\n"
     ]
    }
   ],
   "source": [
    "%%file we.py\n",
    "\n",
    "from mrjob.job import MRJob\n",
    "class MRWordFrequencyCount(MRJob):\n",
    "\n",
    "    def mapper(self, _, line):\n",
    "        cool = line.split(',')[1]\n",
    "        if cool.isdigit():\n",
    "            x=int(cool)\n",
    "            if x > 0:\n",
    "                yield \"rating\", int(line.split(',')[0])\n",
    "                \n",
    "    def reducer(self, key, values):\n",
    "      i,totalL,totalW=0,0,0\n",
    "      for i in values:\n",
    "        totalL += 1\n",
    "        totalW += i     \n",
    "      yield \"avg\", totalW/float(totalL)"
   ]
  },
  {
   "cell_type": "code",
   "execution_count": 2,
   "id": "f770f9ca",
   "metadata": {},
   "outputs": [
    {
     "name": "stderr",
     "output_type": "stream",
     "text": [
      "No configs specified for inline runner\n"
     ]
    },
    {
     "name": "stdout",
     "output_type": "stream",
     "text": [
      "avg 3.8649595687331537\n"
     ]
    }
   ],
   "source": [
    "import we\n",
    "\n",
    "import pandas as pd\n",
    "\n",
    "col_list =  [\"stars\",\"cool\"]\n",
    "# Then loading csv file\n",
    "pd.read_csv('yelp.csv',usecols=col_list).to_csv(r'cool.csv', index=False)\n",
    "\n",
    "#a = list(df['text'])\n",
    "mr_job = we.MRWordFrequencyCount(args=['cool.csv'])\n",
    "with mr_job.make_runner() as runner:\n",
    "    runner.run()\n",
    "    for key, value in mr_job.parse_output(runner.cat_output()):\n",
    "        print(key, value)"
   ]
  },
  {
   "cell_type": "code",
   "execution_count": null,
   "id": "8cbf1281",
   "metadata": {},
   "outputs": [],
   "source": []
  }
 ],
 "metadata": {
  "kernelspec": {
   "display_name": "Python 3",
   "language": "python",
   "name": "python3"
  },
  "language_info": {
   "codemirror_mode": {
    "name": "ipython",
    "version": 3
   },
   "file_extension": ".py",
   "mimetype": "text/x-python",
   "name": "python",
   "nbconvert_exporter": "python",
   "pygments_lexer": "ipython3",
   "version": "3.8.8"
  }
 },
 "nbformat": 4,
 "nbformat_minor": 5
}
